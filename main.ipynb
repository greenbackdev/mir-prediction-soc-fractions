{
 "cells": [
  {
   "cell_type": "markdown",
   "id": "7b9c7ec1-cdc7-417c-ba15-3a04a4f7e49d",
   "metadata": {},
   "source": [
    "# Prediction of thermal fractions from MIR Spectra"
   ]
  },
  {
   "cell_type": "code",
   "execution_count": null,
   "id": "99eba515",
   "metadata": {},
   "outputs": [],
   "source": [
    "import os\n",
    "import pickle\n",
    "import pandas as pd\n",
    "import numpy as np\n",
    "import matplotlib.pyplot as plt\n",
    "\n",
    "from sklearn.metrics import root_mean_squared_error\n",
    "from copy import deepcopy\n",
    "\n",
    "from src.data_loader import DataLoader\n",
    "from src.modeling_tools import *"
   ]
  },
  {
   "cell_type": "code",
   "execution_count": 2,
   "id": "849d9c74",
   "metadata": {},
   "outputs": [],
   "source": [
    "output_folder = 'output'"
   ]
  },
  {
   "cell_type": "markdown",
   "id": "83e393d2-56ff-48f0-92ce-d09ee7da68a1",
   "metadata": {},
   "source": [
    "## Load data"
   ]
  },
  {
   "cell_type": "code",
   "execution_count": 3,
   "id": "c2a11055-5f99-42cb-8c13-5f14428cafa8",
   "metadata": {},
   "outputs": [],
   "source": [
    "data_loader = DataLoader()"
   ]
  },
  {
   "cell_type": "markdown",
   "id": "82297d1e",
   "metadata": {},
   "source": [
    "### Load RMQS data"
   ]
  },
  {
   "cell_type": "code",
   "execution_count": 4,
   "id": "ea07b25e",
   "metadata": {},
   "outputs": [
    {
     "name": "stdout",
     "output_type": "stream",
     "text": [
      "Loaded 1889 spectra.\n",
      "1877 spectra after removing organic soils.\n",
      "1876 spectra after removing samples with RE yield < 0.7 or > 1.3.\n",
      "1876 spectra after removing samples with layer_upper_limit > 30 cm.\n"
     ]
    }
   ],
   "source": [
    "sample_data, wavelenths_MIR, mir_spectra = data_loader.run('rmqs')"
   ]
  },
  {
   "cell_type": "markdown",
   "id": "8caafb79",
   "metadata": {},
   "source": [
    "### Load BZE data"
   ]
  },
  {
   "cell_type": "code",
   "execution_count": 5,
   "id": "60fffa7d",
   "metadata": {},
   "outputs": [
    {
     "name": "stdout",
     "output_type": "stream",
     "text": [
      "Loaded 463 spectra.\n",
      "463 spectra after removing organic soils.\n",
      "449 spectra after removing samples with RE yield < 0.7 or > 1.3.\n",
      "412 spectra after removing samples with layer_upper_limit > 30 cm.\n"
     ]
    }
   ],
   "source": [
    "sample_data_bze, _, mir_spectra_bze = data_loader.run('bze')"
   ]
  },
  {
   "cell_type": "code",
   "execution_count": 6,
   "id": "df784a59",
   "metadata": {},
   "outputs": [
    {
     "data": {
      "text/plain": [
       "layer_upper_limit  layer_lower_limit\n",
       "0                  10                   410\n",
       "5                  10                     2\n",
       "Name: count, dtype: int64"
      ]
     },
     "execution_count": 6,
     "metadata": {},
     "output_type": "execute_result"
    }
   ],
   "source": [
    "sample_data_bze[['layer_upper_limit', 'layer_lower_limit']].value_counts()"
   ]
  },
  {
   "cell_type": "markdown",
   "id": "1f2ccfe4",
   "metadata": {},
   "source": [
    "### Load Finish data"
   ]
  },
  {
   "cell_type": "code",
   "execution_count": 7,
   "id": "1c82e896",
   "metadata": {},
   "outputs": [
    {
     "name": "stdout",
     "output_type": "stream",
     "text": [
      "Loaded 87 spectra.\n",
      "85 spectra after removing organic soils.\n",
      "81 spectra after removing samples with RE yield < 0.7 or > 1.3.\n",
      "81 spectra after removing samples with layer_upper_limit > 30 cm.\n"
     ]
    }
   ],
   "source": [
    "sample_data_finland, _, mir_spectra_finland = data_loader.run('finland')"
   ]
  },
  {
   "cell_type": "markdown",
   "id": "5f7a7b93",
   "metadata": {},
   "source": [
    "### Load New Zealand data"
   ]
  },
  {
   "cell_type": "code",
   "execution_count": 8,
   "id": "c56b4ed8",
   "metadata": {},
   "outputs": [
    {
     "name": "stdout",
     "output_type": "stream",
     "text": [
      "Loaded 282 spectra.\n",
      "276 spectra after removing organic soils.\n",
      "276 spectra after removing samples with layer_upper_limit > 30 cm.\n"
     ]
    }
   ],
   "source": [
    "sample_data_new_zealand, _, mir_spectra_new_zealand = data_loader.run('new_zealand', filter_re_yield=False)"
   ]
  },
  {
   "cell_type": "markdown",
   "id": "8a949a13",
   "metadata": {},
   "source": [
    "## Descriptive statistics of the datasets"
   ]
  },
  {
   "cell_type": "code",
   "execution_count": 17,
   "id": "7886d712",
   "metadata": {},
   "outputs": [],
   "source": [
    "from scipy.stats import skew\n",
    "\n",
    "def get_stats(x):\n",
    "    return {\n",
    "        'N': len(x),\n",
    "        'Min': x.min(),\n",
    "        'Mean': x.mean(),\n",
    "        'Median': x.quantile(0.5),\n",
    "        'Max': x.max(),\n",
    "        'STD': x.std(),\n",
    "        'Skew': skew(x.values)\n",
    "    }"
   ]
  },
  {
   "cell_type": "code",
   "execution_count": 25,
   "id": "67ae4f9a",
   "metadata": {},
   "outputs": [],
   "source": [
    "stats_rmqs = get_stats(sample_data.stablecarbon_frac)\n",
    "stats_bze = get_stats(sample_data_bze.stablecarbon_frac)\n",
    "stats_finland = get_stats(sample_data_finland.stablecarbon_frac)"
   ]
  },
  {
   "cell_type": "code",
   "execution_count": 26,
   "id": "23e7929e",
   "metadata": {},
   "outputs": [],
   "source": [
    "stats_summary = pd.DataFrame([stats_rmqs, stats_bze, stats_finland], index=['RMQS', 'Germany', 'FInland']).round(2)"
   ]
  },
  {
   "cell_type": "code",
   "execution_count": 27,
   "id": "7d11a525",
   "metadata": {},
   "outputs": [
    {
     "data": {
      "text/html": [
       "<div>\n",
       "<style scoped>\n",
       "    .dataframe tbody tr th:only-of-type {\n",
       "        vertical-align: middle;\n",
       "    }\n",
       "\n",
       "    .dataframe tbody tr th {\n",
       "        vertical-align: top;\n",
       "    }\n",
       "\n",
       "    .dataframe thead th {\n",
       "        text-align: right;\n",
       "    }\n",
       "</style>\n",
       "<table border=\"1\" class=\"dataframe\">\n",
       "  <thead>\n",
       "    <tr style=\"text-align: right;\">\n",
       "      <th></th>\n",
       "      <th>N</th>\n",
       "      <th>Min</th>\n",
       "      <th>Mean</th>\n",
       "      <th>Median</th>\n",
       "      <th>Max</th>\n",
       "      <th>STD</th>\n",
       "      <th>Skew</th>\n",
       "    </tr>\n",
       "  </thead>\n",
       "  <tbody>\n",
       "    <tr>\n",
       "      <th>RMQS</th>\n",
       "      <td>1876</td>\n",
       "      <td>0.25</td>\n",
       "      <td>0.45</td>\n",
       "      <td>0.45</td>\n",
       "      <td>0.84</td>\n",
       "      <td>0.12</td>\n",
       "      <td>0.48</td>\n",
       "    </tr>\n",
       "    <tr>\n",
       "      <th>Germany</th>\n",
       "      <td>412</td>\n",
       "      <td>0.25</td>\n",
       "      <td>0.42</td>\n",
       "      <td>0.42</td>\n",
       "      <td>0.79</td>\n",
       "      <td>0.12</td>\n",
       "      <td>0.40</td>\n",
       "    </tr>\n",
       "    <tr>\n",
       "      <th>FInland</th>\n",
       "      <td>81</td>\n",
       "      <td>0.26</td>\n",
       "      <td>0.39</td>\n",
       "      <td>0.36</td>\n",
       "      <td>0.60</td>\n",
       "      <td>0.09</td>\n",
       "      <td>0.48</td>\n",
       "    </tr>\n",
       "  </tbody>\n",
       "</table>\n",
       "</div>"
      ],
      "text/plain": [
       "            N   Min  Mean  Median   Max   STD  Skew\n",
       "RMQS     1876  0.25  0.45    0.45  0.84  0.12  0.48\n",
       "Germany   412  0.25  0.42    0.42  0.79  0.12  0.40\n",
       "FInland    81  0.26  0.39    0.36  0.60  0.09  0.48"
      ]
     },
     "execution_count": 27,
     "metadata": {},
     "output_type": "execute_result"
    }
   ],
   "source": [
    "stats_summary"
   ]
  },
  {
   "cell_type": "markdown",
   "id": "cb782118",
   "metadata": {},
   "source": [
    "# Model training on RMQS data"
   ]
  },
  {
   "cell_type": "markdown",
   "id": "b2e88a2b",
   "metadata": {},
   "source": [
    "## Grid search hyperparameters"
   ]
  },
  {
   "cell_type": "code",
   "execution_count": 8,
   "id": "0e277f48",
   "metadata": {},
   "outputs": [],
   "source": [
    "mir_gridsearch_results = {}"
   ]
  },
  {
   "cell_type": "code",
   "execution_count": null,
   "id": "5760ede9",
   "metadata": {},
   "outputs": [],
   "source": [
    "name = 'stablecarbon_frac_beta_reg'\n",
    "\n",
    "parameters_dict = {\n",
    "    'window_length': [5, 11, 16, 21],\n",
    "    'polyorder': [2, 3],\n",
    "    'deriv': [0, 1, 2],\n",
    "    'n_components': [5, 10, 15, 20, 25, 30],\n",
    "}\n",
    "\n",
    "gridsearch = GridSearch()\n",
    "results, best_parameters = gridsearch.run(\n",
    "    name,\n",
    "    parameters_dict,\n",
    "    mir_spectra,\n",
    "    sample_data,\n",
    "    clear_display=True,\n",
    "    output_folder=os.path.join(output_folder, 'grid_search', name),\n",
    ")\n",
    "\n",
    "mir_gridsearch_results[name] = gridsearch"
   ]
  },
  {
   "cell_type": "code",
   "execution_count": 9,
   "id": "a3d74ecd",
   "metadata": {},
   "outputs": [
    {
     "data": {
      "text/plain": [
       "{'n_components': 15.0, 'polyorder': 3.0, 'deriv': 1.0, 'window_length': 5.0}"
      ]
     },
     "execution_count": 9,
     "metadata": {},
     "output_type": "execute_result"
    }
   ],
   "source": [
    "best_parameters"
   ]
  },
  {
   "cell_type": "code",
   "execution_count": 10,
   "id": "38e07f68",
   "metadata": {},
   "outputs": [],
   "source": [
    "with open(os.path.join(output_folder, 'grid_search', 'results.p'), \"wb\") as f:\n",
    "        pickle.dump(mir_gridsearch_results, f)"
   ]
  },
  {
   "cell_type": "code",
   "execution_count": 13,
   "id": "4b27fbc0",
   "metadata": {},
   "outputs": [],
   "source": [
    "with open(os.path.join(output_folder, 'grid_search', 'results.p'), \"wb\") as f:\n",
    "        pickle.dump(mir_gridsearch_results, f)"
   ]
  },
  {
   "cell_type": "markdown",
   "id": "31f10a6d",
   "metadata": {},
   "source": [
    "<!-- ## Predictions -->"
   ]
  },
  {
   "cell_type": "code",
   "execution_count": null,
   "id": "87b9e18a",
   "metadata": {},
   "outputs": [],
   "source": [
    "best_params_stablecarbon = mir_gridsearch_results['stablecarbon_frac_beta_reg'].best_parameters\n",
    "\n",
    "mir_default_params = {\n",
    "    'shift_position': None,\n",
    "    'min_wavelength': 440,    # checked visually where the signal became less noisy\n",
    "    'max_wavelength': 10000,\n",
    "    'window_length': int(best_params_stablecarbon['window_length']),\n",
    "    'polyorder': int(best_params_stablecarbon['polyorder']),\n",
    "    'deriv': int(best_params_stablecarbon['deriv']),\n",
    "    'resampling_step': 2,\n",
    "}\n",
    "mir_n_components = {\n",
    "    key: int(mir_gridsearch_results[key].best_parameters['n_components'])\n",
    "    for key in mir_gridsearch_results\n",
    "}"
   ]
  },
  {
   "cell_type": "code",
   "execution_count": null,
   "id": "c4068367",
   "metadata": {
    "scrolled": true
   },
   "outputs": [],
   "source": [
    "mir_predictions = run_preprocessing_training_prediction(\n",
    "    mir_spectra,\n",
    "    mir_default_params,\n",
    "    mir_n_components,\n",
    "    sample_data,\n",
    "    output_folder=os.path.join(output_folder, 'prediction'),\n",
    "    names=list(mir_gridsearch_results.keys()),    # here it only includes stablecarbon_frac_beta_reg only, but could include more models \n",
    "    n_splits=5,\n",
    "    n_repeats=10,\n",
    ")\n",
    "\n",
    "with open(os.path.join(output_folder, 'prediction', 'predictions.p'), \"wb\") as f:\n",
    "    pickle.dump(mir_predictions, f)"
   ]
  },
  {
   "cell_type": "markdown",
   "id": "92161df5",
   "metadata": {},
   "source": [
    "## Apply to prediction of BZE"
   ]
  },
  {
   "cell_type": "code",
   "execution_count": 17,
   "id": "52b6fc9d-e67f-4671-9541-4822a13ec4a1",
   "metadata": {},
   "outputs": [],
   "source": [
    "best_params_stablecarbon = mir_gridsearch_results['stablecarbon_frac_beta_reg'].best_parameters\n",
    "\n",
    "mir_default_params = {\n",
    "    'shift_position': None,\n",
    "    'min_wavelength': 440,    # checked visually where the signal became less noisy\n",
    "    'max_wavelength': 10000,\n",
    "    'window_length': int(best_params_stablecarbon['window_length']),\n",
    "    'polyorder': int(best_params_stablecarbon['polyorder']),\n",
    "    'deriv': int(best_params_stablecarbon['deriv']),\n",
    "    'resampling_step': 2,\n",
    "}\n",
    "mir_n_components = {\n",
    "    key: int(mir_gridsearch_results[key].best_parameters['n_components'])\n",
    "    for key in mir_gridsearch_results\n",
    "}"
   ]
  },
  {
   "cell_type": "code",
   "execution_count": 12,
   "id": "d701e3c5",
   "metadata": {},
   "outputs": [],
   "source": [
    "mir_output_folder_bze = os.path.join(output_folder, 'apply_to_bze')\n",
    "os.makedirs(mir_output_folder_bze, exist_ok=True)"
   ]
  },
  {
   "cell_type": "code",
   "execution_count": null,
   "id": "40ef211b",
   "metadata": {
    "scrolled": true
   },
   "outputs": [],
   "source": [
    "mir_predictions_bze = run_preprocessing_prediction(\n",
    "    mir_spectra_bze,\n",
    "    mir_default_params,\n",
    "    mir_n_components,\n",
    "    sample_data_bze,\n",
    "    mir_predictions,\n",
    "    output_folder=mir_output_folder_bze,\n",
    "    spectra_original=mir_spectra,\n",
    "    names=list(mir_gridsearch_results.keys()),\n",
    ")\n"
   ]
  },
  {
   "cell_type": "code",
   "execution_count": 14,
   "id": "c0de0db2",
   "metadata": {},
   "outputs": [],
   "source": [
    "with open(os.path.join(mir_output_folder_bze, 'predictions.p'), \"wb\") as f:\n",
    "        pickle.dump(mir_predictions_bze, f)"
   ]
  },
  {
   "cell_type": "markdown",
   "id": "a1bc2064",
   "metadata": {},
   "source": [
    "## Apply to prediction of Finland"
   ]
  },
  {
   "cell_type": "code",
   "execution_count": 9,
   "id": "ae2eb5ba",
   "metadata": {},
   "outputs": [],
   "source": [
    "mir_output_folder_finland = os.path.join(output_folder, 'apply_to_finland')\n",
    "os.makedirs(mir_output_folder_finland, exist_ok=True)"
   ]
  },
  {
   "cell_type": "code",
   "execution_count": null,
   "id": "eea04ef7",
   "metadata": {
    "scrolled": true
   },
   "outputs": [],
   "source": [
    "mir_predictions_finland = run_preprocessing_prediction(\n",
    "    mir_spectra_finland,\n",
    "    mir_default_params,\n",
    "    mir_n_components,\n",
    "    sample_data_finland,\n",
    "    mir_predictions,\n",
    "    output_folder=mir_output_folder_finland,\n",
    "    spectra_original=mir_spectra,\n",
    "    names=list(mir_predictions.keys())\n",
    ")\n"
   ]
  },
  {
   "cell_type": "code",
   "execution_count": 22,
   "id": "6db1af6f",
   "metadata": {},
   "outputs": [],
   "source": [
    "with open(os.path.join(mir_output_folder_finland, 'predictions.p'), \"wb\") as f:\n",
    "        pickle.dump(mir_predictions_finland, f)"
   ]
  },
  {
   "cell_type": "markdown",
   "id": "62547a85-cee3-4cf9-b82a-6b69c9e1491e",
   "metadata": {},
   "source": [
    "## CORAL transfer"
   ]
  },
  {
   "cell_type": "markdown",
   "id": "214b8469-65a5-4977-bbbc-c7366fe66776",
   "metadata": {},
   "source": [
    "### BZE"
   ]
  },
  {
   "cell_type": "code",
   "execution_count": 16,
   "id": "055ae83d-c790-4192-8c53-b48e22e53cd3",
   "metadata": {},
   "outputs": [],
   "source": [
    "with open(os.path.join(output_folder, 'grid_search', 'results.p'), \"rb\") as f:\n",
    "    mir_gridsearch_results = pickle.load(f)\n",
    "mir_gridsearch_results\n",
    "\n",
    "best_params_stablecarbon = mir_gridsearch_results['stablecarbon_frac_beta_reg'].best_parameters\n",
    "\n",
    "mir_default_params = {\n",
    "    'shift_position': None,\n",
    "    'min_wavelength': 440,    # checked visually where the signal became less noisy\n",
    "    'max_wavelength': 10000,\n",
    "    'window_length': int(best_params_stablecarbon['window_length']),\n",
    "    'polyorder': int(best_params_stablecarbon['polyorder']),\n",
    "    'deriv': int(best_params_stablecarbon['deriv']),\n",
    "    'resampling_step': 2,\n",
    "}\n",
    "mir_n_components = {\n",
    "    key: int(mir_gridsearch_results[key].best_parameters['n_components'])\n",
    "    for key in mir_gridsearch_results\n",
    "}"
   ]
  },
  {
   "cell_type": "code",
   "execution_count": 17,
   "id": "642f71bb-6c46-4595-b103-adb607b71343",
   "metadata": {},
   "outputs": [],
   "source": [
    "mir_output_folder_bze = os.path.join(output_folder, 'apply_to_bze_coral')\n",
    "os.makedirs(mir_output_folder_bze, exist_ok=True)"
   ]
  },
  {
   "cell_type": "code",
   "execution_count": null,
   "id": "d2163a7f-0eab-48eb-9034-796d2df92743",
   "metadata": {
    "scrolled": true
   },
   "outputs": [],
   "source": [
    "mir_predictions_rmqs_aligned_bze, mir_predictions_bze = run_preprocessing_coral_training_prediction(\n",
    "    mir_spectra,\n",
    "    mir_spectra_bze,\n",
    "    mir_default_params,\n",
    "    mir_n_components,\n",
    "    sample_data,\n",
    "    sample_data_bze,\n",
    "    output_folder=mir_output_folder_bze,\n",
    "    names=list(mir_gridsearch_results.keys()),\n",
    ")"
   ]
  },
  {
   "cell_type": "code",
   "execution_count": 19,
   "id": "fdd1c662-59ec-4a88-82ee-8d6fa9f40f24",
   "metadata": {},
   "outputs": [],
   "source": [
    "with open(os.path.join(mir_output_folder_bze, 'predictions_rmqs_aligned_bze.p'), \"wb\") as f:\n",
    "        pickle.dump(mir_predictions_rmqs_aligned_bze, f)\n",
    "\n",
    "with open(os.path.join(mir_output_folder_bze, 'predictions.p'), \"wb\") as f:\n",
    "        pickle.dump(mir_predictions_bze, f)"
   ]
  },
  {
   "cell_type": "markdown",
   "id": "43e71fec-887e-40c9-8e0d-18e7ca9097aa",
   "metadata": {},
   "source": [
    "### Finland"
   ]
  },
  {
   "cell_type": "code",
   "execution_count": 11,
   "id": "3638d38d-4995-45b8-9a97-4f49706a8380",
   "metadata": {},
   "outputs": [],
   "source": [
    "mir_output_folder_finland = os.path.join(output_folder, 'apply_to_finland_coral')\n",
    "os.makedirs(mir_output_folder_finland, exist_ok=True)"
   ]
  },
  {
   "cell_type": "code",
   "execution_count": null,
   "id": "ae842c12-61bd-4c2f-96ad-b8e86d6294b3",
   "metadata": {},
   "outputs": [],
   "source": [
    "mir_predictions_rmqs_aligned_finland, mir_predictions_finland = run_preprocessing_coral_training_prediction(\n",
    "    mir_spectra,\n",
    "    mir_spectra_finland,\n",
    "    mir_default_params,\n",
    "    mir_n_components,\n",
    "    sample_data,\n",
    "    sample_data_finland,\n",
    "    output_folder=mir_output_folder_finland,\n",
    "    names=list(mir_gridsearch_results.keys()),\n",
    ")"
   ]
  },
  {
   "cell_type": "code",
   "execution_count": 25,
   "id": "124eb7ac",
   "metadata": {},
   "outputs": [],
   "source": [
    "with open(os.path.join(mir_output_folder_finland, 'predictions_rmqs_aligned_finland.p'), \"wb\") as f:\n",
    "        pickle.dump(mir_predictions_rmqs_aligned_finland, f)\n",
    "\n",
    "with open(os.path.join(mir_output_folder_finland, 'predictions.p'), \"wb\") as f:\n",
    "        pickle.dump(mir_predictions_finland, f)"
   ]
  },
  {
   "cell_type": "markdown",
   "id": "c00e24ae-957d-4d85-983a-fa756393a628",
   "metadata": {},
   "source": [
    "## Compare signals before and after alignment"
   ]
  },
  {
   "cell_type": "code",
   "execution_count": 26,
   "id": "202f5ef3-bb98-4112-a326-8fbe3696e06a",
   "metadata": {},
   "outputs": [],
   "source": [
    "with open(os.path.join(output_folder, 'prediction', 'predictions.p'), \"rb\") as f:\n",
    "        mir_predictions_rmqs = pickle.load(f)\n",
    "\n",
    "with open(os.path.join(output_folder, 'apply_to_bze', 'predictions.p'), \"rb\") as f:\n",
    "        mir_predictions_bze = pickle.load(f)\n",
    "\n",
    "with open(os.path.join(output_folder, 'apply_to_finland', 'predictions.p'), \"rb\") as f:\n",
    "        mir_predictions_finland = pickle.load(f)\n",
    "\n",
    "with open(os.path.join(output_folder, 'apply_to_bze_coral', 'predictions_rmqs_aligned_bze.p'), \"rb\") as f:\n",
    "        mir_predictions_rmqs_aligned_bze = pickle.load(f)\n",
    "\n",
    "with open(os.path.join(output_folder, 'apply_to_finland_coral', 'predictions_rmqs_aligned_finland.p'), \"rb\") as f:\n",
    "        mir_predictions_rmqs_aligned_finland = pickle.load(f)"
   ]
  },
  {
   "cell_type": "code",
   "execution_count": 27,
   "id": "de6524c1-f44d-41c0-9a46-0422da913ecd",
   "metadata": {},
   "outputs": [],
   "source": [
    "X_rmqs = mir_predictions_rmqs['stablecarbon_frac_beta_reg'].X\n",
    "X_bze = mir_predictions_bze['stablecarbon_frac_beta_reg'].X\n",
    "X_finland = mir_predictions_finland['stablecarbon_frac_beta_reg'].X\n",
    "X_rmqs_aligned_bze = mir_predictions_rmqs_aligned_bze['stablecarbon_frac_beta_reg'].X\n",
    "X_rmqs_aligned_finland = mir_predictions_rmqs_aligned_finland['stablecarbon_frac_beta_reg'].X"
   ]
  },
  {
   "cell_type": "code",
   "execution_count": 28,
   "id": "cdb33ec3",
   "metadata": {},
   "outputs": [],
   "source": [
    "wavelengths = mir_predictions_rmqs['stablecarbon_frac_beta_reg'].wavelengths"
   ]
  },
  {
   "cell_type": "code",
   "execution_count": null,
   "id": "b1a91461",
   "metadata": {},
   "outputs": [],
   "source": [
    "\n",
    "fig, axs = plt.subplots(1, 2, figsize=(12, 6))\n",
    "\n",
    "alpha=0.5\n",
    "\n",
    "axs[0].plot(wavelengths, X_bze.mean(axis=0), c='blue', label='BZE', alpha=alpha)\n",
    "axs[0].plot(wavelengths, X_finland.mean(axis=0), c='red', label='Finland', alpha=alpha)\n",
    "axs[1].plot(wavelengths, X_rmqs_aligned_bze.mean(axis=0), c='blue', label='RMQS aligned with BZE', alpha=alpha)\n",
    "axs[1].plot(wavelengths, X_rmqs_aligned_finland.mean(axis=0), c='red', label='RMQS aligned with Finland', alpha=alpha)\n",
    "\n",
    "\n",
    "for ax in axs:\n",
    "    ax.set(\n",
    "        title=\"Mean pre-processed spectra\",\n",
    "        xlabel=\"Wavelength [nm]\",\n",
    "    )\n",
    "    ax.plot(wavelengths, X_rmqs.mean(axis=0), c='k', label='RMQS', alpha=alpha)\n",
    "    ax.legend()\n",
    "    # ax.xaxis.set_ticklabels(wavelengths)\n",
    "\n",
    "\n",
    "plt.show()"
   ]
  },
  {
   "cell_type": "code",
   "execution_count": 30,
   "id": "ca9e6244-85b0-418b-b9b1-02eaf3f30547",
   "metadata": {},
   "outputs": [],
   "source": [
    "from sklearn.decomposition import PCA"
   ]
  },
  {
   "cell_type": "code",
   "execution_count": 31,
   "id": "5efe9011-1922-49a0-a6b6-153741d39f11",
   "metadata": {},
   "outputs": [
    {
     "name": "stdout",
     "output_type": "stream",
     "text": [
      "[0.28044161 0.24077415]\n"
     ]
    }
   ],
   "source": [
    "pca = PCA(n_components=2)\n",
    "pca.fit(np.concatenate([X_rmqs, X_bze, X_finland]))\n",
    "print(pca.explained_variance_ratio_)"
   ]
  },
  {
   "cell_type": "code",
   "execution_count": 32,
   "id": "835c63ad",
   "metadata": {},
   "outputs": [],
   "source": [
    "X_rmqs_reduced = pca.transform(X_rmqs)\n",
    "X_bze_reduced = pca.transform(X_bze)\n",
    "X_finland_reduced = pca.transform(X_finland)\n",
    "X_rmqs_aligned_bze_reduced = pca.transform(X_rmqs_aligned_bze)\n",
    "X_rmqs_aligned_finland_reduced = pca.transform(X_rmqs_aligned_finland)"
   ]
  },
  {
   "cell_type": "code",
   "execution_count": null,
   "id": "502d61b4",
   "metadata": {},
   "outputs": [],
   "source": [
    "\n",
    "fig, axs = plt.subplots(1, 2, figsize=(12, 6), sharex=True, sharey=True)\n",
    "\n",
    "s = 10\n",
    "alpha=0.7\n",
    "\n",
    "axs[0].scatter(X_rmqs_reduced[:, 0], X_rmqs_reduced[:, 1], c='gray', label='RMQS', s=s, alpha=alpha)\n",
    "axs[1].scatter(X_rmqs_reduced[:, 0], X_rmqs_reduced[:, 1], c='gray', label='RMQS', s=s, alpha=alpha)\n",
    "axs[0].scatter(X_bze_reduced[:, 0], X_bze_reduced[:, 1], c='blue', label='BZE', s=s, alpha=alpha)\n",
    "axs[0].scatter(X_finland_reduced[:, 0], X_finland_reduced[:, 1], c='red', label='Finland', s=s, alpha=alpha)\n",
    "axs[1].scatter(X_rmqs_aligned_bze_reduced[:, 0], X_rmqs_aligned_bze_reduced[:, 1], c='blue', label='RMQS aligned with BZE', s=s, alpha=alpha)\n",
    "axs[1].scatter(X_rmqs_aligned_finland_reduced[:, 0], X_rmqs_aligned_finland_reduced[:, 1], c='red', label='RMQS aligned with Finland', s=s, alpha=alpha)\n",
    "\n",
    "for ax in axs:\n",
    "    ax.set(\n",
    "        xlabel=\"1st Eigenvector\",\n",
    "        ylabel=\"2nd Eigenvector\",\n",
    "    )\n",
    "\n",
    "    ax.legend()\n",
    "\n",
    "plt.show()"
   ]
  },
  {
   "cell_type": "markdown",
   "id": "c99c04b7",
   "metadata": {},
   "source": [
    "## Perturbation analysis"
   ]
  },
  {
   "cell_type": "code",
   "execution_count": null,
   "id": "c9d7d5e1",
   "metadata": {},
   "outputs": [],
   "source": [
    "with open(os.path.join(output_folder, 'prediction', 'predictions.p'), \"rb\") as f:\n",
    "    mir_predictions_rmqs = pickle.load(f)"
   ]
  },
  {
   "cell_type": "code",
   "execution_count": null,
   "id": "dea38e7f",
   "metadata": {},
   "outputs": [],
   "source": [
    "prediction = mir_predictions_rmqs['stablecarbon_frac_beta_reg']\n",
    "X_train = prediction.X_train\n",
    "X_test = prediction.X_test\n",
    "y_train = prediction.y_train\n",
    "y_test = prediction.y_test\n",
    "\n",
    "N = 100   # number of perturbation analyses runs"
   ]
  },
  {
   "cell_type": "code",
   "execution_count": null,
   "id": "d573e252",
   "metadata": {},
   "outputs": [],
   "source": [
    "rmse = []\n",
    "i = 0\n",
    "while i < N:\n",
    "    y_train_perturbed = [np.random.normal(loc=y, scale=0.08, size=1) for y in y_train]\n",
    "    y_test_perturbed = [np.random.normal(loc=y, scale=0.08, size=1) for y in y_test]\n",
    "    # keep only if [0, 1] limits are respected, otherswise generate new series\n",
    "    if (\n",
    "        min(y_train_perturbed) < 0 or\n",
    "        min(y_test_perturbed) < 0 or\n",
    "        max(y_train_perturbed) > 1 or\n",
    "        max(y_test_perturbed) > 1\n",
    "    ):\n",
    "        continue\n",
    "    i += 1\n",
    "    pred = deepcopy(prediction)\n",
    "    pred.fit(X_train, y_train_perturbed)\n",
    "    y_test_pred, _, _ = pred.predict(X_test)\n",
    "    print(i, root_mean_squared_error(y_test, y_test_perturbed))\n",
    "    rmse.append(root_mean_squared_error(y_test, y_test_perturbed))"
   ]
  },
  {
   "cell_type": "code",
   "execution_count": null,
   "id": "05c20fc1",
   "metadata": {},
   "outputs": [],
   "source": [
    "np.mean(rmse)"
   ]
  },
  {
   "cell_type": "code",
   "execution_count": null,
   "id": "a0e4567c",
   "metadata": {},
   "outputs": [],
   "source": [
    "np.std(rmse)"
   ]
  },
  {
   "cell_type": "code",
   "execution_count": null,
   "id": "3a9efbcc",
   "metadata": {},
   "outputs": [],
   "source": []
  }
 ],
 "metadata": {
  "kernelspec": {
   "display_name": "rmqs_spectra_functions",
   "language": "python",
   "name": "rmqs_spectra_functions"
  },
  "language_info": {
   "codemirror_mode": {
    "name": "ipython",
    "version": 3
   },
   "file_extension": ".py",
   "mimetype": "text/x-python",
   "name": "python",
   "nbconvert_exporter": "python",
   "pygments_lexer": "ipython3",
   "version": "3.9.6"
  }
 },
 "nbformat": 4,
 "nbformat_minor": 5
}
